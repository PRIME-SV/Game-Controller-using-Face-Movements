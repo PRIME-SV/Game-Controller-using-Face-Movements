{
 "cells": [
  {
   "cell_type": "code",
   "execution_count": null,
   "metadata": {},
   "outputs": [],
   "source": [
    "#Game Controller using Face Detection\n",
    "import cv2\n",
    "import numpy as np\n",
    "from pynput.keyboard import Key,Controller"
   ]
  },
  {
   "cell_type": "code",
   "execution_count": null,
   "metadata": {},
   "outputs": [],
   "source": [
    "cam = cv2.VideoCapture(0)\n",
    "harcascade = cv2.CascadeClassifier('haarcascade_frontalface_default.xml')\n",
    "count = flag= 0\n",
    "board = Controller()\n",
    "\n",
    "while cam.isOpened():\n",
    "    _ , frame= cam.read()\n",
    "    frame = cv2.flip(frame,1)\n",
    "    faces = harcascade.detectMultiScale(frame)\n",
    "    \n",
    "    if count == 0:\n",
    "    #Coordinates for a refernce box\n",
    "        fx,fy,fw,fh = faces[0]\n",
    "        fx,fy,fw,fh = fx+(fh//3),fy+(fw//3),fy + fw - (fw//3),fx + fh - (fh//3)\n",
    "        count += 1\n",
    "    \n",
    "    for x,y,w,h in faces:\n",
    "        #reference pointer on face\n",
    "        pointer = ((x+x+h)//2,(y+y+w)//2)\n",
    "        cv2.circle(frame,pointer,0,(255,255,0),0)\n",
    "    \n",
    "    #cv2.circle(frame,(fx+fh,fy+fw),0,(0,255,0),5)\n",
    "    cv2.rectangle(frame,(fx,fy),(fh,fw),(0,0,255),2)\n",
    "    if pointer[0] < fh and pointer[0] > fx and pointer[1] < fw and pointer[1] > fy:\n",
    "        flag = 1\n",
    "    \n",
    "    #Key Presses\n",
    "    if flag == 1:\n",
    "        if pointer[0] > fh:\n",
    "            print('Right')\n",
    "            board.press(Key.right)\n",
    "            board.release(Key.right)\n",
    "            flag = 0\n",
    "        elif pointer[0] < fx:\n",
    "            print('Left')\n",
    "            board.press(Key.left)\n",
    "            board.release(Key.left)\n",
    "            flag = 0\n",
    "        elif pointer[1] > fw:\n",
    "            print('Down')\n",
    "            board.press(Key.down)\n",
    "            board.release(Key.down)\n",
    "            flag = 0\n",
    "        elif pointer[1] < fy:\n",
    "            print('UP')\n",
    "            board.press(Key.up)\n",
    "            board.release(Key.up)\n",
    "            flag = 0\n",
    "    \n",
    "    cv2.imshow('out',frame)\n",
    "    \n",
    "    if cv2.waitKey(1) & 0xFF == ord('q'):\n",
    "        break\n",
    "\n",
    "cam.release()\n",
    "cv2.destroyAllWindows()"
   ]
  },
  {
   "cell_type": "code",
   "execution_count": null,
   "metadata": {},
   "outputs": [],
   "source": []
  }
 ],
 "metadata": {
  "kernelspec": {
   "display_name": "Python 3",
   "language": "python",
   "name": "python3"
  },
  "language_info": {
   "codemirror_mode": {
    "name": "ipython",
    "version": 3
   },
   "file_extension": ".py",
   "mimetype": "text/x-python",
   "name": "python",
   "nbconvert_exporter": "python",
   "pygments_lexer": "ipython3",
   "version": "3.8.3"
  }
 },
 "nbformat": 4,
 "nbformat_minor": 4
}
